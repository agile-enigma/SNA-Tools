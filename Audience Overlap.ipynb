{
 "cells": [
  {
   "cell_type": "code",
   "execution_count": null,
   "id": "369d30e1",
   "metadata": {},
   "outputs": [],
   "source": [
    "import pandas as pd"
   ]
  },
  {
   "cell_type": "code",
   "execution_count": null,
   "id": "9be592d4",
   "metadata": {},
   "outputs": [],
   "source": [
    "#import edges list\n",
    "\n",
    "df = pd.read_csv('....csv')"
   ]
  },
  {
   "cell_type": "code",
   "execution_count": null,
   "id": "ebd915eb",
   "metadata": {},
   "outputs": [],
   "source": [
    "#create a dictionary showing users that engaged with each domain receiving more than 10 links\n",
    "\n",
    "dict = {}\n",
    "\n",
    "df2 = df.groupby('target').filter(lambda x: x['target'].count()>=10)\n",
    "\n",
    "for host in pd.unique(df2['target']):\n",
    "    dict[host] = set()\n",
    "    for user in pd.unique(df2['source']):\n",
    "        if len(df2[(df2['source']==user) & (df2['target']==host)]) != 0:\n",
    "            dict[host].add(user)"
   ]
  },
  {
   "cell_type": "code",
   "execution_count": null,
   "id": "23ef79b2",
   "metadata": {},
   "outputs": [],
   "source": [
    "#create an edges list\n",
    "\n",
    "edges_df = pd.DataFrame({'source': [],\n",
    "                   'target': [],\n",
    "                    'shared_audience': [],\n",
    "                    'source_audience': [],\n",
    "                   'source_audience_share': [],\n",
    "                    'target_audience': [],\n",
    "                   'target_audience_share': []})\n",
    "\n",
    "for node in dict:\n",
    "    for other_node in dict:\n",
    "        if node != other_node and len(dict[node].intersection(dict[other_node])) != 0:\n",
    "            index = len(edges_df.index)\n",
    "            shared_audience = len(dict[node].intersection(dict[other_node]))\n",
    "            edges_df.loc[index, 'source'] = node\n",
    "            edges_df.loc[index, 'target'] = other_node\n",
    "            edges_df.loc[index, 'shared_audience'] = shared_audience\n",
    "            edges_df.loc[index, 'source_audience'] = len(df2[df2['target']==node])\n",
    "            edges_df.loc[index, 'source_audience_share'] = shared_audience/len(df2[df2['target']==node])*100\n",
    "            edges_df.loc[index, 'target_audience'] = len(df2[df2['target']==other_node])\n",
    "            edges_df.loc[index, 'target_audience_share'] = shared_audience/len(df2[df2['target']==other_node])*100\n",
    "            \n",
    "decimals = pd.Series([2, 2], index=['source_audience_share', 'target_audience_share'])\n",
    "edges_df = edges_df.round(decimals)\n",
    "edges_df = edges_df.astype({'shared_audience': 'int', 'source_audience': 'int', 'target_audience': 'int'})\n",
    "edges_df.to_csv('audience_share_edges_list.csv', index=False)"
   ]
  },
  {
   "cell_type": "code",
   "execution_count": null,
   "id": "ad0e29b9",
   "metadata": {},
   "outputs": [],
   "source": [
    "edges_df.head(10)."
   ]
  },
  {
   "cell_type": "code",
   "execution_count": null,
   "id": "05816927",
   "metadata": {},
   "outputs": [],
   "source": [
    "edges_df[['source', 'target', 'source_audience', 'shared_audience', 'source_audience_share']].sort_values(by='source_audience_share', ascending=False).head(10)"
   ]
  },
  {
   "cell_type": "code",
   "execution_count": null,
   "id": "bfcaa9cd",
   "metadata": {},
   "outputs": [],
   "source": [
    "#create a nodes list\n",
    "\n",
    "nodes_list = list(set(list(edges_df['source']) + list(edges_df['source'])))\n",
    "\n",
    "in_degrees= []\n",
    "\n",
    "for i in nodes_list:\n",
    "    in_degrees.append(len(df2[df2['target']==i]))\n",
    "    \n",
    "nodes_df = pd.DataFrame({'id': nodes_list,\n",
    "                        'label': nodes_list,\n",
    "                        'in_degrees': in_degrees})\n",
    "\n",
    "nodes_df.to_csv('audience_share_nodes_list.csv', index=False)"
   ]
  },
  {
   "cell_type": "code",
   "execution_count": null,
   "id": "646dfe10",
   "metadata": {},
   "outputs": [],
   "source": [
    "nodes_df.sort_values(by='in_degrees', ascending=False).head(10)"
   ]
  }
 ],
 "metadata": {
  "kernelspec": {
   "display_name": "Python 3 (ipykernel)",
   "language": "python",
   "name": "python3"
  },
  "language_info": {
   "codemirror_mode": {
    "name": "ipython",
    "version": 3
   },
   "file_extension": ".py",
   "mimetype": "text/x-python",
   "name": "python",
   "nbconvert_exporter": "python",
   "pygments_lexer": "ipython3",
   "version": "3.11.1"
  }
 },
 "nbformat": 4,
 "nbformat_minor": 5
}
